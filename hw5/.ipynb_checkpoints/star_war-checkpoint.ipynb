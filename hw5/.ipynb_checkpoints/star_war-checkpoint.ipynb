{
 "cells": [
  {
   "cell_type": "code",
   "execution_count": 1,
   "metadata": {},
   "outputs": [],
   "source": [
    "import requests\n",
    "import pandas as pd\n",
    "import time"
   ]
  },
  {
   "cell_type": "code",
   "execution_count": 2,
   "metadata": {},
   "outputs": [
    {
     "name": "stdout",
     "output_type": "stream",
     "text": [
      "Finish Scraping 10 people\n",
      "Finish Scraping 20 people\n",
      "Finish Scraping 30 people\n",
      "Finish Scraping 40 people\n",
      "Finish Scraping 50 people\n",
      "Finish Scraping 60 people\n",
      "Finish Scraping 70 people\n",
      "Finish Scraping 80 people\n"
     ]
    }
   ],
   "source": [
    "people = []\n",
    "for i in range(1, 100):\n",
    "    tmp = requests.get('https://swapi.dev/api/people/'+str(i)).json()\n",
    "    time.sleep(0.5)\n",
    "    if \"detail\" in tmp:\n",
    "        continue\n",
    "    people.append(tmp)\n",
    "    if i % 10 == 0:\n",
    "        print(\"Finish Scraping\", i, \"people\")"
   ]
  },
  {
   "cell_type": "code",
   "execution_count": 3,
   "metadata": {},
   "outputs": [],
   "source": [
    "People = pd.DataFrame(people)\n",
    "People_ = People[People[\"birth_year\"]!=\"unknown\"].reset_index(drop=True)"
   ]
  },
  {
   "cell_type": "code",
   "execution_count": 4,
   "metadata": {},
   "outputs": [],
   "source": [
    "People_[\"AB\"] = People_[\"birth_year\"].str[-3:]\n",
    "People_[\"year\"] = People_[\"birth_year\"].str[:-3].astype(float)"
   ]
  },
  {
   "cell_type": "code",
   "execution_count": 5,
   "metadata": {},
   "outputs": [
    {
     "data": {
      "text/plain": [
       "array(['BBY'], dtype=object)"
      ]
     },
     "execution_count": 5,
     "metadata": {},
     "output_type": "execute_result"
    }
   ],
   "source": [
    "People_[\"AB\"].unique()"
   ]
  },
  {
   "cell_type": "code",
   "execution_count": 6,
   "metadata": {},
   "outputs": [
    {
     "data": {
      "text/plain": [
       "'Yoda'"
      ]
     },
     "execution_count": 6,
     "metadata": {},
     "output_type": "execute_result"
    }
   ],
   "source": [
    "People_.loc[People_[\"year\"].argmax(), \"name\"]"
   ]
  },
  {
   "cell_type": "code",
   "execution_count": 7,
   "metadata": {},
   "outputs": [
    {
     "data": {
      "text/html": [
       "<div>\n",
       "<style scoped>\n",
       "    .dataframe tbody tr th:only-of-type {\n",
       "        vertical-align: middle;\n",
       "    }\n",
       "\n",
       "    .dataframe tbody tr th {\n",
       "        vertical-align: top;\n",
       "    }\n",
       "\n",
       "    .dataframe thead th {\n",
       "        text-align: right;\n",
       "    }\n",
       "</style>\n",
       "<table border=\"1\" class=\"dataframe\">\n",
       "  <thead>\n",
       "    <tr style=\"text-align: right;\">\n",
       "      <th></th>\n",
       "      <th>url</th>\n",
       "    </tr>\n",
       "  </thead>\n",
       "  <tbody>\n",
       "    <tr>\n",
       "      <th>0</th>\n",
       "      <td>http://swapi.dev/api/films/2/</td>\n",
       "    </tr>\n",
       "    <tr>\n",
       "      <th>1</th>\n",
       "      <td>http://swapi.dev/api/films/3/</td>\n",
       "    </tr>\n",
       "    <tr>\n",
       "      <th>2</th>\n",
       "      <td>http://swapi.dev/api/films/4/</td>\n",
       "    </tr>\n",
       "    <tr>\n",
       "      <th>3</th>\n",
       "      <td>http://swapi.dev/api/films/5/</td>\n",
       "    </tr>\n",
       "    <tr>\n",
       "      <th>4</th>\n",
       "      <td>http://swapi.dev/api/films/6/</td>\n",
       "    </tr>\n",
       "  </tbody>\n",
       "</table>\n",
       "</div>"
      ],
      "text/plain": [
       "                             url\n",
       "0  http://swapi.dev/api/films/2/\n",
       "1  http://swapi.dev/api/films/3/\n",
       "2  http://swapi.dev/api/films/4/\n",
       "3  http://swapi.dev/api/films/5/\n",
       "4  http://swapi.dev/api/films/6/"
      ]
     },
     "execution_count": 7,
     "metadata": {},
     "output_type": "execute_result"
    }
   ],
   "source": [
    "Oldest = pd.DataFrame(People_.loc[People_[\"year\"].argmax(), \"films\"], columns=[\"url\"])\n",
    "Oldest"
   ]
  },
  {
   "cell_type": "code",
   "execution_count": 8,
   "metadata": {},
   "outputs": [],
   "source": [
    "films = []\n",
    "for i in range(1, 10):\n",
    "    tmp = requests.get('https://swapi.dev/api/films/'+str(i)).json()\n",
    "    time.sleep(0.5)\n",
    "    if \"detail\" in tmp:\n",
    "        continue\n",
    "    films.append(tmp)"
   ]
  },
  {
   "cell_type": "code",
   "execution_count": 9,
   "metadata": {},
   "outputs": [
    {
     "data": {
      "text/html": [
       "<div>\n",
       "<style scoped>\n",
       "    .dataframe tbody tr th:only-of-type {\n",
       "        vertical-align: middle;\n",
       "    }\n",
       "\n",
       "    .dataframe tbody tr th {\n",
       "        vertical-align: top;\n",
       "    }\n",
       "\n",
       "    .dataframe thead th {\n",
       "        text-align: right;\n",
       "    }\n",
       "</style>\n",
       "<table border=\"1\" class=\"dataframe\">\n",
       "  <thead>\n",
       "    <tr style=\"text-align: right;\">\n",
       "      <th></th>\n",
       "      <th>title</th>\n",
       "      <th>url</th>\n",
       "    </tr>\n",
       "  </thead>\n",
       "  <tbody>\n",
       "    <tr>\n",
       "      <th>0</th>\n",
       "      <td>A New Hope</td>\n",
       "      <td>http://swapi.dev/api/films/1/</td>\n",
       "    </tr>\n",
       "    <tr>\n",
       "      <th>1</th>\n",
       "      <td>The Empire Strikes Back</td>\n",
       "      <td>http://swapi.dev/api/films/2/</td>\n",
       "    </tr>\n",
       "    <tr>\n",
       "      <th>2</th>\n",
       "      <td>Return of the Jedi</td>\n",
       "      <td>http://swapi.dev/api/films/3/</td>\n",
       "    </tr>\n",
       "    <tr>\n",
       "      <th>3</th>\n",
       "      <td>The Phantom Menace</td>\n",
       "      <td>http://swapi.dev/api/films/4/</td>\n",
       "    </tr>\n",
       "    <tr>\n",
       "      <th>4</th>\n",
       "      <td>Attack of the Clones</td>\n",
       "      <td>http://swapi.dev/api/films/5/</td>\n",
       "    </tr>\n",
       "    <tr>\n",
       "      <th>5</th>\n",
       "      <td>Revenge of the Sith</td>\n",
       "      <td>http://swapi.dev/api/films/6/</td>\n",
       "    </tr>\n",
       "  </tbody>\n",
       "</table>\n",
       "</div>"
      ],
      "text/plain": [
       "                     title                            url\n",
       "0               A New Hope  http://swapi.dev/api/films/1/\n",
       "1  The Empire Strikes Back  http://swapi.dev/api/films/2/\n",
       "2       Return of the Jedi  http://swapi.dev/api/films/3/\n",
       "3       The Phantom Menace  http://swapi.dev/api/films/4/\n",
       "4     Attack of the Clones  http://swapi.dev/api/films/5/\n",
       "5      Revenge of the Sith  http://swapi.dev/api/films/6/"
      ]
     },
     "execution_count": 9,
     "metadata": {},
     "output_type": "execute_result"
    }
   ],
   "source": [
    "Films = pd.DataFrame(films).loc[:, [\"title\", \"url\"]]\n",
    "Films"
   ]
  },
  {
   "cell_type": "code",
   "execution_count": 10,
   "metadata": {},
   "outputs": [
    {
     "data": {
      "text/plain": [
       "0    The Empire Strikes Back\n",
       "1         Return of the Jedi\n",
       "2         The Phantom Menace\n",
       "3       Attack of the Clones\n",
       "4        Revenge of the Sith\n",
       "Name: title, dtype: object"
      ]
     },
     "execution_count": 10,
     "metadata": {},
     "output_type": "execute_result"
    }
   ],
   "source": [
    "pd.merge(Oldest, Films, on=\"url\", how=\"left\")[\"title\"]"
   ]
  },
  {
   "cell_type": "code",
   "execution_count": null,
   "metadata": {},
   "outputs": [],
   "source": []
  }
 ],
 "metadata": {
  "kernelspec": {
   "display_name": "Python 3",
   "language": "python",
   "name": "python3"
  },
  "language_info": {
   "codemirror_mode": {
    "name": "ipython",
    "version": 3
   },
   "file_extension": ".py",
   "mimetype": "text/x-python",
   "name": "python",
   "nbconvert_exporter": "python",
   "pygments_lexer": "ipython3",
   "version": "3.7.6"
  }
 },
 "nbformat": 4,
 "nbformat_minor": 4
}
