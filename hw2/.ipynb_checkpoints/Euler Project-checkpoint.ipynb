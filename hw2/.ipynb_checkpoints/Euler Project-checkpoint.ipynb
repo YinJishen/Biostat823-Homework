{
 "cells": [
  {
   "cell_type": "markdown",
   "metadata": {},
   "source": [
    "## Problem 8 (Accepted: 351189)"
   ]
  },
  {
   "cell_type": "code",
   "execution_count": 2,
   "metadata": {},
   "outputs": [
    {
     "name": "stdout",
     "output_type": "stream",
     "text": [
      "7316717653133062491922511967442657474235534919493496983520312774506326239578318016984801869478851843858615607891129494954595017379583319528532088055111254069874715852386305071569329096329522744304355766896648950445244523161731856403098711121722383113622298934233803081353362766142828064444866452387493035890729629049156044077239071381051585930796086670172427121883998797908792274921901699720888093776657273330010533678812202354218097512545405947522435258490771167055601360483958644670632441572215539753697817977846174064955149290862569321978468622482839722413756570560574902614079729686524145351004748216637048440319989000889524345065854122758866688116427171479924442928230863465674813919123162824586178664583591245665294765456828489128831426076900422421902267105562632111110937054421750694165896040807198403850962455444362981230987879927244284909188845801561660979191338754992005240636899125607176060588611646710940507754100225698315520005593572972571636269561882670428252483600823257530420752963450\n"
     ]
    }
   ],
   "source": [
    "s = \"\"\"\n",
    "73167176531330624919225119674426574742355349194934\n",
    "96983520312774506326239578318016984801869478851843\n",
    "85861560789112949495459501737958331952853208805511\n",
    "12540698747158523863050715693290963295227443043557\n",
    "66896648950445244523161731856403098711121722383113\n",
    "62229893423380308135336276614282806444486645238749\n",
    "30358907296290491560440772390713810515859307960866\n",
    "70172427121883998797908792274921901699720888093776\n",
    "65727333001053367881220235421809751254540594752243\n",
    "52584907711670556013604839586446706324415722155397\n",
    "53697817977846174064955149290862569321978468622482\n",
    "83972241375657056057490261407972968652414535100474\n",
    "82166370484403199890008895243450658541227588666881\n",
    "16427171479924442928230863465674813919123162824586\n",
    "17866458359124566529476545682848912883142607690042\n",
    "24219022671055626321111109370544217506941658960408\n",
    "07198403850962455444362981230987879927244284909188\n",
    "84580156166097919133875499200524063689912560717606\n",
    "05886116467109405077541002256983155200055935729725\n",
    "71636269561882670428252483600823257530420752963450\n",
    "\"\"\"\n",
    "\n",
    "s = s.replace(\"\\n\", \"\")\n",
    "print(s)"
   ]
  },
  {
   "cell_type": "code",
   "execution_count": 10,
   "metadata": {},
   "outputs": [],
   "source": [
    "def LargestProduct(s:str, digits: int) -> int:\n",
    "    zeros = res = 0\n",
    "    prod = 1\n",
    "    \n",
    "    for i in range(digits):\n",
    "        if s[i] == \"0\":\n",
    "            zeros += 1\n",
    "        else:\n",
    "            prod *= int(s[i])\n",
    "    i = 0\n",
    "    j = digits\n",
    "    while j <= len(s):\n",
    "        if zeros == 0 and prod > res:\n",
    "            res = prod\n",
    "            p = i\n",
    "        if j == len(s):\n",
    "            break\n",
    "        \n",
    "        if s[i] == \"0\":\n",
    "            zeros -= 1\n",
    "        else:\n",
    "            prod //= int(s[i])\n",
    "        \n",
    "        if s[j] == \"0\":\n",
    "            zeros += 1\n",
    "        else:\n",
    "            prod *= int(s[j])\n",
    "        \n",
    "        i += 1\n",
    "        j += 1\n",
    "    \n",
    "    return res, s[p:(p+digits)]"
   ]
  },
  {
   "cell_type": "code",
   "execution_count": 11,
   "metadata": {},
   "outputs": [
    {
     "data": {
      "text/plain": [
       "(5832, '9989')"
      ]
     },
     "execution_count": 11,
     "metadata": {},
     "output_type": "execute_result"
    }
   ],
   "source": [
    "LargestProduct(s, 4)"
   ]
  },
  {
   "cell_type": "code",
   "execution_count": 12,
   "metadata": {},
   "outputs": [
    {
     "data": {
      "text/plain": [
       "(23514624000, '5576689664895')"
      ]
     },
     "execution_count": 12,
     "metadata": {},
     "output_type": "execute_result"
    }
   ],
   "source": [
    "LargestProduct(s, 13)"
   ]
  },
  {
   "cell_type": "markdown",
   "metadata": {},
   "source": [
    "## Problem 31 (Accepted: 83660)"
   ]
  },
  {
   "cell_type": "code",
   "execution_count": 13,
   "metadata": {},
   "outputs": [],
   "source": [
    "coins = [1, 2, 5, 10, 20, 50, 100, 200]\n",
    "amount = 200"
   ]
  },
  {
   "cell_type": "code",
   "execution_count": 15,
   "metadata": {},
   "outputs": [],
   "source": [
    "def change(amount: int, coins: list) -> int:\n",
    "    dp = [0] * (amount + 1)\n",
    "    dp[0] = 1\n",
    "    for coin in coins:\n",
    "        for i in range(coin, amount + 1):\n",
    "            dp[i] += dp[i - coin]\n",
    "    return dp[-1]"
   ]
  },
  {
   "cell_type": "code",
   "execution_count": 16,
   "metadata": {},
   "outputs": [
    {
     "data": {
      "text/plain": [
       "73682"
      ]
     },
     "execution_count": 16,
     "metadata": {},
     "output_type": "execute_result"
    }
   ],
   "source": [
    "change(200, coins)"
   ]
  },
  {
   "cell_type": "markdown",
   "metadata": {},
   "source": [
    "## Problem 96 (Accepted: 16283)"
   ]
  },
  {
   "cell_type": "code",
   "execution_count": 49,
   "metadata": {},
   "outputs": [],
   "source": [
    "Input = []\n",
    "\n",
    "with open(\"p096_sudoku.txt\") as f:\n",
    "    for line in f.readlines():\n",
    "        if line[0] == \"G\":\n",
    "            Input.append([])\n",
    "        else:\n",
    "            Input[-1].append(list(line.replace(\"\\n\", \"\")))"
   ]
  },
  {
   "cell_type": "code",
   "execution_count": 43,
   "metadata": {},
   "outputs": [],
   "source": [
    "def helper(board: list):\n",
    "    for i in range(9):\n",
    "        for j in range(9):\n",
    "            if board[i][j] == '0':\n",
    "                for num in range(1, 10):\n",
    "                    num = str(num)\n",
    "                    if isvalid(board, i, j, num):\n",
    "                        board[i][j] = num\n",
    "                        if helper(board):\n",
    "                            return True\n",
    "                        board[i][j] = '0'\n",
    "                return False\n",
    "    return True\n",
    "    \n",
    "def isvalid(board: list, row: int, col: int, num: int):\n",
    "    for i in range(9):\n",
    "        if board[row][i] == num:\n",
    "            return False\n",
    "        if board[i][col] == num:\n",
    "            return False\n",
    "        if board[(row//3)*3+i//3][(col//3)*3+i%3] == num:\n",
    "            return False\n",
    "    return True\n",
    "                \n",
    "def solveSudoku(board: list) -> None:\n",
    "    return helper(board)"
   ]
  },
  {
   "cell_type": "code",
   "execution_count": 51,
   "metadata": {},
   "outputs": [
    {
     "name": "stdout",
     "output_type": "stream",
     "text": [
      "483 245 462 137 523 176 143 487 814 761 976 962 397 639 697 361 359 786 743 782 428 425 348 124 361 581 387 345 235 298 761 132 698 852 453 516 945 365 134 193 814 384 469 316 586 954 159 861 294 351 "
     ]
    }
   ],
   "source": [
    "for board in Input:\n",
    "    solveSudoku(board)\n",
    "    print(\"\".join(board[0][:3]), end=\" \")"
   ]
  },
  {
   "cell_type": "code",
   "execution_count": 52,
   "metadata": {},
   "outputs": [
    {
     "data": {
      "text/plain": [
       "[['4', '8', '3', '9', '2', '1', '6', '5', '7'],\n",
       " ['9', '6', '7', '3', '4', '5', '8', '2', '1'],\n",
       " ['2', '5', '1', '8', '7', '6', '4', '9', '3'],\n",
       " ['5', '4', '8', '1', '3', '2', '9', '7', '6'],\n",
       " ['7', '2', '9', '5', '6', '4', '1', '3', '8'],\n",
       " ['1', '3', '6', '7', '9', '8', '2', '4', '5'],\n",
       " ['3', '7', '2', '6', '8', '9', '5', '1', '4'],\n",
       " ['8', '1', '4', '2', '5', '3', '7', '6', '9'],\n",
       " ['6', '9', '5', '4', '1', '7', '3', '8', '2']]"
      ]
     },
     "execution_count": 52,
     "metadata": {},
     "output_type": "execute_result"
    }
   ],
   "source": [
    "Input[0]"
   ]
  }
 ],
 "metadata": {
  "kernelspec": {
   "display_name": "Python 3",
   "language": "python",
   "name": "python3"
  },
  "language_info": {
   "codemirror_mode": {
    "name": "ipython",
    "version": 3
   },
   "file_extension": ".py",
   "mimetype": "text/x-python",
   "name": "python",
   "nbconvert_exporter": "python",
   "pygments_lexer": "ipython3",
   "version": "3.7.6"
  }
 },
 "nbformat": 4,
 "nbformat_minor": 4
}
