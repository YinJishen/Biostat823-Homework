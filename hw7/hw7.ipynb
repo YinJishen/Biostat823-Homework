{
 "cells": [
  {
   "cell_type": "code",
   "execution_count": 74,
   "metadata": {},
   "outputs": [],
   "source": [
    "import time\n",
    "import torch\n",
    "from torch import nn, optim\n",
    "import torch.nn.functional as F\n",
    "import os\n",
    "import cv2\n",
    "import pandas as pd\n",
    "import numpy as np\n",
    "import matplotlib.pyplot as plt\n",
    "from sklearn.preprocessing import LabelEncoder\n",
    "import warnings\n",
    "warnings.simplefilter('ignore', FutureWarning)"
   ]
  },
  {
   "cell_type": "code",
   "execution_count": 62,
   "metadata": {},
   "outputs": [
    {
     "data": {
      "text/plain": [
       "'1.5.1+cpu'"
      ]
     },
     "execution_count": 62,
     "metadata": {},
     "output_type": "execute_result"
    }
   ],
   "source": [
    "torch.__version__"
   ]
  },
  {
   "cell_type": "code",
   "execution_count": 76,
   "metadata": {},
   "outputs": [],
   "source": [
    "def Insect_Data_Loader(batch_size):\n",
    "    \"\"\"\n",
    "    read data, convert them into pytorch data-iter format\n",
    "    \"\"\"\n",
    "    X_train = []\n",
    "    y_train = []\n",
    "    X_test = []\n",
    "    y_test = []\n",
    "    \n",
    "    for c in ['beetles', 'cockroach', 'dragonflies']:\n",
    "        train_dir = r'insects/train/' + c\n",
    "        test_dir = r'insects/test/' + c\n",
    "        \n",
    "        ## read image in test data\n",
    "        for fname in os.listdir(r'./' + test_dir):\n",
    "            img = cv2.imread(test_dir + '/' + fname)\n",
    "            if img is not None:\n",
    "                img = cv2.resize(img, dsize=(84, 84), interpolation=cv2.INTER_CUBIC)\n",
    "                X_test.append(img)\n",
    "                y_test.append(c)\n",
    "        \n",
    "        ## read image in train data, check if any image appears in test data. If there is, delete them from train data\n",
    "        for fname in os.listdir(r'./' + train_dir):\n",
    "            if fname in os.listdir(r'./' + test_dir):\n",
    "                continue\n",
    "            img = cv2.imread(train_dir + '/' + fname)\n",
    "            if img is not None:\n",
    "                img = cv2.resize(img, dsize=(84, 84), interpolation=cv2.INTER_CUBIC)\n",
    "                X_train.append(img)\n",
    "                y_train.append(c)\n",
    "    \n",
    "    # Label Encoding\n",
    "    le = LabelEncoder()\n",
    "    le.fit(y_train)\n",
    "    y_train = le.transform(y_train)\n",
    "    y_test = le.transform(y_test)\n",
    "    \n",
    "    # pytorch preprocessing\n",
    "    X_train_ = torch.Tensor(np.array(X_train) / 255)\n",
    "    y_train_ = torch.Tensor(y_train).long()\n",
    "    X_test_ = torch.Tensor(np.array(X_test) / 255)\n",
    "    y_test_ = torch.Tensor(y_test).long()\n",
    "    train = torch.utils.data.TensorDataset(X_train_, y_train_)\n",
    "    test = torch.utils.data.TensorDataset(X_test_, y_test_)\n",
    "    train_iter = torch.utils.data.DataLoader(dataset=train, batch_size=batch_size, shuffle=True) \n",
    "    test_iter = torch.utils.data.DataLoader(dataset=test, batch_size=batch_size, shuffle=False)\n",
    "    \n",
    "    return train_iter, test_iter"
   ]
  },
  {
   "cell_type": "code",
   "execution_count": 146,
   "metadata": {},
   "outputs": [],
   "source": [
    "class LeNet(nn.Module):\n",
    "    def __init__(self):\n",
    "        super(LeNet, self).__init__()\n",
    "        self.conv = nn.Sequential(\n",
    "            nn.Conv2d(3, 16, 3, 2, 1, bias=True),\n",
    "            nn.ReLU(),\n",
    "            nn.MaxPool2d(2),\n",
    "            nn.Conv2d(16, 64, 3, 1, 0, bias=True),\n",
    "            nn.ReLU(),\n",
    "            nn.MaxPool2d(2)\n",
    "        )\n",
    "        self.fc = nn.Sequential(\n",
    "            nn.Linear(64*9*9, 120),\n",
    "            nn.ReLU(),\n",
    "            nn.Linear(120, 84),\n",
    "            nn.ReLU(),\n",
    "            nn.Linear(84, 3)\n",
    "        )\n",
    "\n",
    "    def forward(self, img):\n",
    "        feature = self.conv(img)\n",
    "        output = self.fc(feature.view(img.shape[0], -1))\n",
    "        return output"
   ]
  },
  {
   "cell_type": "code",
   "execution_count": 147,
   "metadata": {},
   "outputs": [],
   "source": [
    "def evaluate_accuracy(data_iter, net, device=None):\n",
    "    if device is None and isinstance(net, torch.nn.Module):\n",
    "        device = list(net.parameters())[0].device\n",
    "    acc_sum, n = 0.0, 0\n",
    "    with torch.no_grad():\n",
    "        for X, y in data_iter:\n",
    "            if isinstance(net, torch.nn.Module):\n",
    "                net.eval()\n",
    "                acc_sum += (net(X.to(device).reshape(-1, 3, 84, 84)).argmax(dim=1) == y.to(device)).float().sum().cpu().item()\n",
    "                net.train()\n",
    "            else:\n",
    "                if('is_training' in net.__code__.co_varnames):\n",
    "                    acc_sum += (net(X, is_training=False).argmax(dim=1) == y).float().sum().item() \n",
    "                else:\n",
    "                    acc_sum += (net(X).argmax(dim=1) == y).float().sum().item() \n",
    "            n += y.shape[0]\n",
    "    return acc_sum / n"
   ]
  },
  {
   "cell_type": "code",
   "execution_count": 148,
   "metadata": {},
   "outputs": [],
   "source": [
    "def train(net, train_iter, test_iter, batch_size, optimizer, device, num_epochs):\n",
    "    net = net.to(device)\n",
    "    print(\"training on \", device)\n",
    "    loss = torch.nn.CrossEntropyLoss()\n",
    "    train_accs = []\n",
    "    test_accs = []\n",
    "    for epoch in range(num_epochs):\n",
    "        train_l_sum, train_acc_sum, n, batch_count, start = 0.0, 0.0, 0, 0, time.time()\n",
    "        for X, y in train_iter:\n",
    "            X = X.to(device).reshape(-1, 3, 84, 84)\n",
    "            y = y.to(device)\n",
    "            y_hat = net(X)\n",
    "            l = loss(y_hat, y)\n",
    "            optimizer.zero_grad()\n",
    "            l.backward()\n",
    "            optimizer.step()\n",
    "            train_l_sum += l.cpu().item()\n",
    "            train_acc_sum += (y_hat.argmax(dim=1) == y).sum().cpu().item()\n",
    "            n += y.shape[0]\n",
    "            batch_count += 1\n",
    "        test_acc = evaluate_accuracy(test_iter, net)\n",
    "        print('epoch %d, loss %.4f, train acc %.3f, test acc %.3f, time %.1f sec'\n",
    "              % (epoch + 1, train_l_sum / batch_count, train_acc_sum / n, test_acc, time.time() - start))\n",
    "        train_accs.append(train_acc_sum / n)\n",
    "        test_accs.append(test_acc)\n",
    "    return train_accs, test_accs"
   ]
  },
  {
   "cell_type": "code",
   "execution_count": 149,
   "metadata": {},
   "outputs": [
    {
     "name": "stdout",
     "output_type": "stream",
     "text": [
      "LeNet(\n",
      "  (conv): Sequential(\n",
      "    (0): Conv2d(3, 16, kernel_size=(3, 3), stride=(2, 2), padding=(1, 1))\n",
      "    (1): ReLU()\n",
      "    (2): MaxPool2d(kernel_size=2, stride=2, padding=0, dilation=1, ceil_mode=False)\n",
      "    (3): Conv2d(16, 64, kernel_size=(3, 3), stride=(1, 1))\n",
      "    (4): ReLU()\n",
      "    (5): MaxPool2d(kernel_size=2, stride=2, padding=0, dilation=1, ceil_mode=False)\n",
      "  )\n",
      "  (fc): Sequential(\n",
      "    (0): Linear(in_features=5184, out_features=120, bias=True)\n",
      "    (1): ReLU()\n",
      "    (2): Linear(in_features=120, out_features=84, bias=True)\n",
      "    (3): ReLU()\n",
      "    (4): Linear(in_features=84, out_features=3, bias=True)\n",
      "  )\n",
      ")\n"
     ]
    }
   ],
   "source": [
    "net = LeNet().to(device)\n",
    "print(net)"
   ]
  },
  {
   "cell_type": "code",
   "execution_count": 150,
   "metadata": {},
   "outputs": [],
   "source": [
    "batch_size = 32\n",
    "train_iter, test_iter = Insect_Data_Loader(batch_size)"
   ]
  },
  {
   "cell_type": "code",
   "execution_count": 151,
   "metadata": {},
   "outputs": [
    {
     "name": "stdout",
     "output_type": "stream",
     "text": [
      "training on  cpu\n",
      "epoch 1, loss 0.8830, train acc 0.608, test acc 0.561, time 1.7 sec\n",
      "epoch 2, loss 0.6701, train acc 0.702, test acc 0.650, time 1.7 sec\n",
      "epoch 3, loss 0.6206, train acc 0.737, test acc 0.694, time 1.7 sec\n",
      "epoch 4, loss 0.5293, train acc 0.778, test acc 0.722, time 1.7 sec\n",
      "epoch 5, loss 0.4992, train acc 0.796, test acc 0.711, time 1.7 sec\n",
      "epoch 6, loss 0.4939, train acc 0.801, test acc 0.733, time 1.7 sec\n",
      "epoch 7, loss 0.4462, train acc 0.816, test acc 0.661, time 1.7 sec\n",
      "epoch 8, loss 0.4497, train acc 0.827, test acc 0.728, time 1.7 sec\n",
      "epoch 9, loss 0.4076, train acc 0.841, test acc 0.761, time 1.8 sec\n",
      "epoch 10, loss 0.3620, train acc 0.863, test acc 0.728, time 1.7 sec\n",
      "epoch 11, loss 0.3578, train acc 0.864, test acc 0.789, time 1.8 sec\n",
      "epoch 12, loss 0.3170, train acc 0.893, test acc 0.811, time 1.7 sec\n",
      "epoch 13, loss 0.3042, train acc 0.890, test acc 0.733, time 1.7 sec\n",
      "epoch 14, loss 0.2412, train acc 0.923, test acc 0.750, time 1.8 sec\n",
      "epoch 15, loss 0.2254, train acc 0.925, test acc 0.794, time 1.7 sec\n",
      "epoch 16, loss 0.2115, train acc 0.931, test acc 0.794, time 1.7 sec\n",
      "epoch 17, loss 0.1900, train acc 0.932, test acc 0.789, time 1.7 sec\n",
      "epoch 18, loss 0.1619, train acc 0.951, test acc 0.772, time 1.8 sec\n",
      "epoch 19, loss 0.1338, train acc 0.964, test acc 0.756, time 1.8 sec\n",
      "epoch 20, loss 0.1804, train acc 0.945, test acc 0.817, time 1.8 sec\n"
     ]
    }
   ],
   "source": [
    "lr, num_epochs = 0.001, 20\n",
    "optimizer = torch.optim.Adam(net.parameters(), lr=lr)\n",
    "train_accs, test_accs = train(net, train_iter, test_iter, batch_size, optimizer, device, num_epochs)"
   ]
  },
  {
   "cell_type": "code",
   "execution_count": 152,
   "metadata": {},
   "outputs": [
    {
     "data": {
      "image/png": "[encoded data removed]",
      "text/plain": [
       "<Figure size 720x288 with 1 Axes>"
      ]
     },
     "metadata": {
      "needs_background": "light"
     },
     "output_type": "display_data"
    }
   ],
   "source": [
    "epoch = len(train_accs)\n",
    "\n",
    "plt.figure(figsize=(10,4))\n",
    "plt.plot(list(range(1, epoch+1)), train_accs, label='training accuracy')\n",
    "plt.plot(list(range(1, epoch+1)), test_accs, label='test accuracy')\n",
    "plt.xlabel('Epochs')\n",
    "plt.ylabel('Accuracy')\n",
    "plt.xticks(list(range(1, epoch+1, 2)),list(range(1, epoch+1, 2)));\n",
    "plt.legend(loc='best')\n",
    "plt.show()"
   ]
  },
  {
   "cell_type": "code",
   "execution_count": null,
   "metadata": {},
   "outputs": [],
   "source": []
  }
 ],
 "metadata": {
  "kernelspec": {
   "display_name": "Python 3",
   "language": "python",
   "name": "python3"
  },
  "language_info": {
   "codemirror_mode": {
    "name": "ipython",
    "version": 3
   },
   "file_extension": ".py",
   "mimetype": "text/x-python",
   "name": "python",
   "nbconvert_exporter": "python",
   "pygments_lexer": "ipython3",
   "version": "3.7.6"
  }
 },
 "nbformat": 4,
 "nbformat_minor": 4
}
